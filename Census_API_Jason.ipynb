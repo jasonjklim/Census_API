{
 "cells": [
  {
   "cell_type": "code",
   "execution_count": 108,
   "metadata": {},
   "outputs": [],
   "source": [
    "#manipulate dataframes in python\n",
    "import pandas as pd\n",
    "\n",
    "#make API calls with python\n",
    "import requests\n",
    "\n",
    "#allows us to store results of API call cleanly\n",
    "import json\n",
    "\n",
    "import math"
   ]
  },
  {
   "cell_type": "code",
   "execution_count": 47,
   "metadata": {},
   "outputs": [],
   "source": [
    "# Sample variables\n",
    "year='2018'\n",
    "dsource='pep'\n",
    "dname='charagegroups'\n",
    "cols='GEONAME,POP,SEX,SUMLEV'\n",
    "state='42'\n",
    "county='017,029,045,091,101'"
   ]
  },
  {
   "cell_type": "code",
   "execution_count": 11,
   "metadata": {},
   "outputs": [],
   "source": [
    "# Construct Based API\n",
    "base_url = f'https://api.census.gov/data/{year}/{dsource}/{dname}'\n"
   ]
  },
  {
   "cell_type": "code",
   "execution_count": 14,
   "metadata": {},
   "outputs": [],
   "source": [
    "#put your census API key here\n",
    "api_key = \"a45a33bca80b5e1907adc4587be5c346b897dda7\"\n",
    "#construct the API call we will use\n",
    "data_url = f'{base_url}?get={cols}&for=county:{county}&in=state:{state}\\\n",
    "&key={api_key}'"
   ]
  },
  {
   "cell_type": "code",
   "execution_count": 16,
   "metadata": {},
   "outputs": [],
   "source": [
    "#call the API and collect the response\n",
    "response = requests.get(data_url)"
   ]
  },
  {
   "cell_type": "code",
   "execution_count": 17,
   "metadata": {},
   "outputs": [
    {
     "name": "stdout",
     "output_type": "stream",
     "text": [
      "[[\"GEONAME\",\"POP\",\"SEX\",\"SUMLEV\",\"state\",\"county\"],\n",
      "[\"Bucks County, Pennsylvania\",\"628195\",\"0\",\"050\",\"42\",\"17\"],\n",
      "[\"Bucks County, Pennsylvania\",\"308395\",\"1\",\"050\",\"42\",\"17\"],\n",
      "[\"Bucks County, Pennsylvania\",\"319800\",\"2\",\"050\",\"42\",\"17\"],\n",
      "[\"Chester County, Pennsylvania\",\"522046\",\"0\",\"050\",\"42\",\"29\"],\n",
      "[\"Chester County, Pennsylvania\",\"257214\",\"1\",\"050\",\"42\",\"29\"],\n",
      "[\"Chester County, Pennsylvania\",\"264832\",\"2\",\"050\",\"42\",\"29\"],\n",
      "[\"Delaware County, Pennsylvania\",\"564751\",\"0\",\"050\",\"42\",\"45\"],\n",
      "[\"Delaware County, Pennsylvania\",\"271816\",\"1\",\"050\",\"42\",\"45\"],\n",
      "[\"Delaware County, Pennsylvania\",\"292935\",\"2\",\"050\",\"42\",\"45\"],\n",
      "[\"Montgomery County, Pennsylvania\",\"828604\",\"0\",\"050\",\"42\",\"91\"],\n",
      "[\"Montgomery County, Pennsylvania\",\"403268\",\"1\",\"050\",\"42\",\"91\"],\n",
      "[\"Montgomery County, Pennsylvania\",\"425336\",\"2\",\"050\",\"42\",\"91\"],\n",
      "[\"Philadelphia County, Pennsylvania\",\"1584138\",\"0\",\"050\",\"42\",\"101\"],\n",
      "[\"Philadelphia County, Pennsylvania\",\"749572\",\"1\",\"050\",\"42\",\"101\"],\n",
      "[\"Philadelphia County, Pennsylvania\",\"834566\",\"2\",\"050\",\"42\",\"101\"]]\n"
     ]
    }
   ],
   "source": [
    "print(response.text)"
   ]
  },
  {
   "cell_type": "markdown",
   "metadata": {},
   "source": [
    "\"item\": {\n",
    "      \"0\": \"Both Sexes\",\n",
    "      \"1\": \"Male\",\n",
    "      \"2\": \"Female\""
   ]
  },
  {
   "cell_type": "code",
   "execution_count": 18,
   "metadata": {},
   "outputs": [],
   "source": [
    "# Try with place code\n",
    "state='36'\n",
    "place='51000'\n",
    "\n",
    "data_url2= f'{base_url}?get={cols}&for=place:{county}&in=state:{state}\\\n",
    "&key={api_key}'"
   ]
  },
  {
   "cell_type": "code",
   "execution_count": 19,
   "metadata": {},
   "outputs": [],
   "source": [
    "response = requests.get(data_url2)"
   ]
  },
  {
   "cell_type": "code",
   "execution_count": 20,
   "metadata": {},
   "outputs": [
    {
     "name": "stdout",
     "output_type": "stream",
     "text": [
      "error: unknown/unsupported geography heirarchy\n"
     ]
    }
   ],
   "source": [
    "print(response.text)"
   ]
  },
  {
   "cell_type": "markdown",
   "metadata": {},
   "source": [
    "## Place FIPS Code is not supported.\n",
    "\n",
    "Then, I want to know how Census Quick Fact come up with the different Sex prediction\n",
    "For example, NYC has 52.3% of Female population, and source is hoursing data set and ACA.\n",
    "\n",
    "https://www.census.gov/quickfacts/newyorkcitynewyork\n",
    "\n",
    "Population Estimates Program\n",
    "\n",
    "Sex estimates of the population are produced for the United States, states, and counties, as well as for the Commonwealth of Puerto Rico and its municipios (county-equivalents for Puerto Rico). Sex is based on the biological attributes of men and women (chromosomes, anatomy, and hormones).\n",
    "\n",
    "For more information, go to Age and Sex\n",
    "\n",
    "American Community Survey\n",
    "\n",
    "Sex estimates of the population are produced for places, zona urbanas and comunidades (place-equivalents for Puerto Rico), and minor civil divisions. The sex data collected on the forms are aggregated and provide the number of males and females in the population. These data are needed to interpret most social and economic characteristics used to plan and analyze programs and policies. Data about sex are critical because so many federal programs must differentiate between males and females.\n",
    "\n",
    "For more information, go to ACS subject definitions \"Sex\"\n",
    "\n",
    "\n",
    "Data users should be aware of methodology differences that may exist between different data sources.\n"
   ]
  },
  {
   "cell_type": "markdown",
   "metadata": {},
   "source": [
    "## Therefore, I assume that the percentage of NYC female comes from NYC county population or State population."
   ]
  },
  {
   "cell_type": "markdown",
   "metadata": {},
   "source": [
    "Try with NY county \n",
    "From Wiki, Five of New York's counties are each coextensive with New York City's five boroughs and do not have county governments. They are New York County (Manhattan), Kings County (Brooklyn), Bronx County (The Bronx), Richmond County (Staten Island), and Queens County (Queens)."
   ]
  },
  {
   "cell_type": "code",
   "execution_count": 22,
   "metadata": {},
   "outputs": [],
   "source": [
    "# LEt's check\n",
    "\n",
    "\n",
    "state='36'\n",
    "county='061,047,005,085,081'"
   ]
  },
  {
   "cell_type": "code",
   "execution_count": 26,
   "metadata": {},
   "outputs": [],
   "source": [
    "\n",
    "data_url3= f'{base_url}?get={cols}&for=county:{county}&in=state:{state}\\\n",
    "&key={api_key}'"
   ]
  },
  {
   "cell_type": "code",
   "execution_count": 27,
   "metadata": {},
   "outputs": [],
   "source": [
    "response = requests.get(data_url3)"
   ]
  },
  {
   "cell_type": "code",
   "execution_count": 28,
   "metadata": {},
   "outputs": [
    {
     "name": "stdout",
     "output_type": "stream",
     "text": [
      "[[\"GEONAME\",\"POP\",\"SEX\",\"SUMLEV\",\"state\",\"county\"],\n",
      "[\"Bronx County, New York\",\"1432132\",\"0\",\"050\",\"36\",\"5\"],\n",
      "[\"Bronx County, New York\",\"674900\",\"1\",\"050\",\"36\",\"5\"],\n",
      "[\"Bronx County, New York\",\"757232\",\"2\",\"050\",\"36\",\"5\"],\n",
      "[\"Kings County, New York\",\"2582830\",\"0\",\"050\",\"36\",\"47\"],\n",
      "[\"Kings County, New York\",\"1223764\",\"1\",\"050\",\"36\",\"47\"],\n",
      "[\"Kings County, New York\",\"1359066\",\"2\",\"050\",\"36\",\"47\"],\n",
      "[\"New York County, New York\",\"1628701\",\"0\",\"050\",\"36\",\"61\"],\n",
      "[\"New York County, New York\",\"771151\",\"1\",\"050\",\"36\",\"61\"],\n",
      "[\"New York County, New York\",\"857550\",\"2\",\"050\",\"36\",\"61\"],\n",
      "[\"Queens County, New York\",\"2278906\",\"0\",\"050\",\"36\",\"81\"],\n",
      "[\"Queens County, New York\",\"1105389\",\"1\",\"050\",\"36\",\"81\"],\n",
      "[\"Queens County, New York\",\"1173517\",\"2\",\"050\",\"36\",\"81\"],\n",
      "[\"Richmond County, New York\",\"476179\",\"0\",\"050\",\"36\",\"85\"],\n",
      "[\"Richmond County, New York\",\"230765\",\"1\",\"050\",\"36\",\"85\"],\n",
      "[\"Richmond County, New York\",\"245414\",\"2\",\"050\",\"36\",\"85\"]]\n"
     ]
    }
   ],
   "source": [
    "print(response.text)"
   ]
  },
  {
   "cell_type": "code",
   "execution_count": 32,
   "metadata": {},
   "outputs": [],
   "source": [
    "data=response.json()\n",
    "df=pd.DataFrame(data[1:], columns=data[0])"
   ]
  },
  {
   "cell_type": "code",
   "execution_count": 33,
   "metadata": {},
   "outputs": [
    {
     "data": {
      "text/html": [
       "<div>\n",
       "<style scoped>\n",
       "    .dataframe tbody tr th:only-of-type {\n",
       "        vertical-align: middle;\n",
       "    }\n",
       "\n",
       "    .dataframe tbody tr th {\n",
       "        vertical-align: top;\n",
       "    }\n",
       "\n",
       "    .dataframe thead th {\n",
       "        text-align: right;\n",
       "    }\n",
       "</style>\n",
       "<table border=\"1\" class=\"dataframe\">\n",
       "  <thead>\n",
       "    <tr style=\"text-align: right;\">\n",
       "      <th></th>\n",
       "      <th>GEONAME</th>\n",
       "      <th>POP</th>\n",
       "      <th>SEX</th>\n",
       "      <th>SUMLEV</th>\n",
       "      <th>state</th>\n",
       "      <th>county</th>\n",
       "    </tr>\n",
       "  </thead>\n",
       "  <tbody>\n",
       "    <tr>\n",
       "      <th>0</th>\n",
       "      <td>Bronx County, New York</td>\n",
       "      <td>1432132</td>\n",
       "      <td>0</td>\n",
       "      <td>050</td>\n",
       "      <td>36</td>\n",
       "      <td>5</td>\n",
       "    </tr>\n",
       "    <tr>\n",
       "      <th>1</th>\n",
       "      <td>Bronx County, New York</td>\n",
       "      <td>674900</td>\n",
       "      <td>1</td>\n",
       "      <td>050</td>\n",
       "      <td>36</td>\n",
       "      <td>5</td>\n",
       "    </tr>\n",
       "    <tr>\n",
       "      <th>2</th>\n",
       "      <td>Bronx County, New York</td>\n",
       "      <td>757232</td>\n",
       "      <td>2</td>\n",
       "      <td>050</td>\n",
       "      <td>36</td>\n",
       "      <td>5</td>\n",
       "    </tr>\n",
       "    <tr>\n",
       "      <th>3</th>\n",
       "      <td>Kings County, New York</td>\n",
       "      <td>2582830</td>\n",
       "      <td>0</td>\n",
       "      <td>050</td>\n",
       "      <td>36</td>\n",
       "      <td>47</td>\n",
       "    </tr>\n",
       "    <tr>\n",
       "      <th>4</th>\n",
       "      <td>Kings County, New York</td>\n",
       "      <td>1223764</td>\n",
       "      <td>1</td>\n",
       "      <td>050</td>\n",
       "      <td>36</td>\n",
       "      <td>47</td>\n",
       "    </tr>\n",
       "    <tr>\n",
       "      <th>5</th>\n",
       "      <td>Kings County, New York</td>\n",
       "      <td>1359066</td>\n",
       "      <td>2</td>\n",
       "      <td>050</td>\n",
       "      <td>36</td>\n",
       "      <td>47</td>\n",
       "    </tr>\n",
       "    <tr>\n",
       "      <th>6</th>\n",
       "      <td>New York County, New York</td>\n",
       "      <td>1628701</td>\n",
       "      <td>0</td>\n",
       "      <td>050</td>\n",
       "      <td>36</td>\n",
       "      <td>61</td>\n",
       "    </tr>\n",
       "    <tr>\n",
       "      <th>7</th>\n",
       "      <td>New York County, New York</td>\n",
       "      <td>771151</td>\n",
       "      <td>1</td>\n",
       "      <td>050</td>\n",
       "      <td>36</td>\n",
       "      <td>61</td>\n",
       "    </tr>\n",
       "    <tr>\n",
       "      <th>8</th>\n",
       "      <td>New York County, New York</td>\n",
       "      <td>857550</td>\n",
       "      <td>2</td>\n",
       "      <td>050</td>\n",
       "      <td>36</td>\n",
       "      <td>61</td>\n",
       "    </tr>\n",
       "    <tr>\n",
       "      <th>9</th>\n",
       "      <td>Queens County, New York</td>\n",
       "      <td>2278906</td>\n",
       "      <td>0</td>\n",
       "      <td>050</td>\n",
       "      <td>36</td>\n",
       "      <td>81</td>\n",
       "    </tr>\n",
       "    <tr>\n",
       "      <th>10</th>\n",
       "      <td>Queens County, New York</td>\n",
       "      <td>1105389</td>\n",
       "      <td>1</td>\n",
       "      <td>050</td>\n",
       "      <td>36</td>\n",
       "      <td>81</td>\n",
       "    </tr>\n",
       "    <tr>\n",
       "      <th>11</th>\n",
       "      <td>Queens County, New York</td>\n",
       "      <td>1173517</td>\n",
       "      <td>2</td>\n",
       "      <td>050</td>\n",
       "      <td>36</td>\n",
       "      <td>81</td>\n",
       "    </tr>\n",
       "    <tr>\n",
       "      <th>12</th>\n",
       "      <td>Richmond County, New York</td>\n",
       "      <td>476179</td>\n",
       "      <td>0</td>\n",
       "      <td>050</td>\n",
       "      <td>36</td>\n",
       "      <td>85</td>\n",
       "    </tr>\n",
       "    <tr>\n",
       "      <th>13</th>\n",
       "      <td>Richmond County, New York</td>\n",
       "      <td>230765</td>\n",
       "      <td>1</td>\n",
       "      <td>050</td>\n",
       "      <td>36</td>\n",
       "      <td>85</td>\n",
       "    </tr>\n",
       "    <tr>\n",
       "      <th>14</th>\n",
       "      <td>Richmond County, New York</td>\n",
       "      <td>245414</td>\n",
       "      <td>2</td>\n",
       "      <td>050</td>\n",
       "      <td>36</td>\n",
       "      <td>85</td>\n",
       "    </tr>\n",
       "  </tbody>\n",
       "</table>\n",
       "</div>"
      ],
      "text/plain": [
       "                      GEONAME      POP SEX SUMLEV state county\n",
       "0      Bronx County, New York  1432132   0    050    36      5\n",
       "1      Bronx County, New York   674900   1    050    36      5\n",
       "2      Bronx County, New York   757232   2    050    36      5\n",
       "3      Kings County, New York  2582830   0    050    36     47\n",
       "4      Kings County, New York  1223764   1    050    36     47\n",
       "5      Kings County, New York  1359066   2    050    36     47\n",
       "6   New York County, New York  1628701   0    050    36     61\n",
       "7   New York County, New York   771151   1    050    36     61\n",
       "8   New York County, New York   857550   2    050    36     61\n",
       "9     Queens County, New York  2278906   0    050    36     81\n",
       "10    Queens County, New York  1105389   1    050    36     81\n",
       "11    Queens County, New York  1173517   2    050    36     81\n",
       "12  Richmond County, New York   476179   0    050    36     85\n",
       "13  Richmond County, New York   230765   1    050    36     85\n",
       "14  Richmond County, New York   245414   2    050    36     85"
      ]
     },
     "execution_count": 33,
     "metadata": {},
     "output_type": "execute_result"
    }
   ],
   "source": [
    "df"
   ]
  },
  {
   "cell_type": "code",
   "execution_count": 37,
   "metadata": {},
   "outputs": [],
   "source": [
    "df = df.astype(dtype={'POP':'int64'})"
   ]
  },
  {
   "cell_type": "code",
   "execution_count": 43,
   "metadata": {},
   "outputs": [
    {
     "data": {
      "text/plain": [
       "0.5230278370061824"
      ]
     },
     "execution_count": 43,
     "metadata": {},
     "output_type": "execute_result"
    }
   ],
   "source": [
    "df[df['SEX']=='2']['POP'].sum()/df[df['SEX']=='0']['POP'].sum()"
   ]
  },
  {
   "cell_type": "code",
   "execution_count": 44,
   "metadata": {},
   "outputs": [
    {
     "data": {
      "text/plain": [
       "8398748"
      ]
     },
     "execution_count": 44,
     "metadata": {},
     "output_type": "execute_result"
    }
   ],
   "source": [
    "df[df['SEX']=='0']['POP'].sum()"
   ]
  },
  {
   "cell_type": "markdown",
   "metadata": {},
   "source": [
    "When I checked NYC CITY population from City dataset, population is also 8398748."
   ]
  },
  {
   "cell_type": "markdown",
   "metadata": {},
   "source": [
    "## Using ACS5\n",
    "\n",
    "https://api.census.gov/data/2018/acs/acs5/subject?get=NAME,S0101_C01_001E&for=place:35536&in=state:01&key=YOUR_KEY_GOES_HERE"
   ]
  },
  {
   "cell_type": "markdown",
   "metadata": {},
   "source": [
    "S0101_C01_001E\tEstimate!!Total!!Total population <br>\n",
    "S0101_C03_001E\tEstimate!!Male!!Total population<br>\n",
    "S0101_C05_001E\tEstimate!!Female!!Total population<br>\n"
   ]
  },
  {
   "cell_type": "code",
   "execution_count": 164,
   "metadata": {},
   "outputs": [
    {
     "name": "stdout",
     "output_type": "stream",
     "text": [
      "[[\"NAME\",\"S0101_C01_001E\",\"S0101_C03_001E\",\"S0101_C05_001E\",\"state\",\"place\"],\n",
      "[\"New York city, New York\",\"8443713\",\"4025097\",\"4418616\",\"36\",\"51000\"]]\n"
     ]
    }
   ],
   "source": [
    "year='2018'\n",
    "dsource='acs'\n",
    "dname='acs5'\n",
    "cols='NAME,S0101_C01_001E,S0101_C03_001E,S0101_C05_001E'\n",
    "state='36'\n",
    "place='51000'\n",
    "\n",
    "base_url4 = f'https://api.census.gov/data/{year}/{dsource}/{dname}/subject'\n",
    "\n",
    "data_url4= f'{base_url4}?get={cols}&for=place:{place}&in=state:{state}\\\n",
    "&key={api_key}'\n",
    "\n",
    "response4 = requests.get(data_url4)\n",
    "print(response4.text)"
   ]
  },
  {
   "cell_type": "markdown",
   "metadata": {},
   "source": [
    "## It is working for Gender"
   ]
  },
  {
   "cell_type": "code",
   "execution_count": 84,
   "metadata": {},
   "outputs": [],
   "source": [
    "# for getting place ID, I will pull up wave1 data.\n",
    "coltype1 = {'STATE':object,\n",
    "           'PLACE':object}\n",
    "wave1= pd.read_excel(\"wave1.xlsx\", index_col=0,dtype=coltype1)"
   ]
  },
  {
   "cell_type": "code",
   "execution_count": 85,
   "metadata": {},
   "outputs": [
    {
     "data": {
      "text/html": [
       "<div>\n",
       "<style scoped>\n",
       "    .dataframe tbody tr th:only-of-type {\n",
       "        vertical-align: middle;\n",
       "    }\n",
       "\n",
       "    .dataframe tbody tr th {\n",
       "        vertical-align: top;\n",
       "    }\n",
       "\n",
       "    .dataframe thead th {\n",
       "        text-align: right;\n",
       "    }\n",
       "</style>\n",
       "<table border=\"1\" class=\"dataframe\">\n",
       "  <thead>\n",
       "    <tr style=\"text-align: right;\">\n",
       "      <th></th>\n",
       "      <th>STATE</th>\n",
       "      <th>PLACE</th>\n",
       "      <th>CITY_FIPS_CODE</th>\n",
       "      <th>Year</th>\n",
       "      <th>NAME</th>\n",
       "      <th>STNAME</th>\n",
       "      <th>NYU_500_Largest</th>\n",
       "      <th>Pop_Estimate</th>\n",
       "    </tr>\n",
       "  </thead>\n",
       "  <tbody>\n",
       "    <tr>\n",
       "      <th>0</th>\n",
       "      <td>01</td>\n",
       "      <td>00124</td>\n",
       "      <td>100124</td>\n",
       "      <td>2000</td>\n",
       "      <td>Abbeville city</td>\n",
       "      <td>Alabama</td>\n",
       "      <td>0</td>\n",
       "      <td>2985</td>\n",
       "    </tr>\n",
       "    <tr>\n",
       "      <th>1</th>\n",
       "      <td>01</td>\n",
       "      <td>00460</td>\n",
       "      <td>100460</td>\n",
       "      <td>2000</td>\n",
       "      <td>Adamsville city</td>\n",
       "      <td>Alabama</td>\n",
       "      <td>0</td>\n",
       "      <td>5021</td>\n",
       "    </tr>\n",
       "    <tr>\n",
       "      <th>2</th>\n",
       "      <td>01</td>\n",
       "      <td>00484</td>\n",
       "      <td>100484</td>\n",
       "      <td>2000</td>\n",
       "      <td>Addison town</td>\n",
       "      <td>Alabama</td>\n",
       "      <td>0</td>\n",
       "      <td>701</td>\n",
       "    </tr>\n",
       "    <tr>\n",
       "      <th>3</th>\n",
       "      <td>01</td>\n",
       "      <td>00676</td>\n",
       "      <td>100676</td>\n",
       "      <td>2000</td>\n",
       "      <td>Akron town</td>\n",
       "      <td>Alabama</td>\n",
       "      <td>0</td>\n",
       "      <td>485</td>\n",
       "    </tr>\n",
       "    <tr>\n",
       "      <th>4</th>\n",
       "      <td>01</td>\n",
       "      <td>00820</td>\n",
       "      <td>100820</td>\n",
       "      <td>2000</td>\n",
       "      <td>Alabaster city</td>\n",
       "      <td>Alabama</td>\n",
       "      <td>0</td>\n",
       "      <td>24116</td>\n",
       "    </tr>\n",
       "  </tbody>\n",
       "</table>\n",
       "</div>"
      ],
      "text/plain": [
       "  STATE  PLACE  CITY_FIPS_CODE  Year             NAME   STNAME  \\\n",
       "0    01  00124          100124  2000   Abbeville city  Alabama   \n",
       "1    01  00460          100460  2000  Adamsville city  Alabama   \n",
       "2    01  00484          100484  2000     Addison town  Alabama   \n",
       "3    01  00676          100676  2000       Akron town  Alabama   \n",
       "4    01  00820          100820  2000   Alabaster city  Alabama   \n",
       "\n",
       "   NYU_500_Largest  Pop_Estimate  \n",
       "0                0          2985  \n",
       "1                0          5021  \n",
       "2                0           701  \n",
       "3                0           485  \n",
       "4                0         24116  "
      ]
     },
     "execution_count": 85,
     "metadata": {},
     "output_type": "execute_result"
    }
   ],
   "source": [
    "wave1.head()"
   ]
  },
  {
   "cell_type": "code",
   "execution_count": 86,
   "metadata": {},
   "outputs": [
    {
     "data": {
      "text/plain": [
       "0         00124\n",
       "1         00460\n",
       "2         00484\n",
       "3         00676\n",
       "4         00820\n",
       "          ...  \n",
       "156416    83400\n",
       "156417    83640\n",
       "156418    83664\n",
       "156419    83976\n",
       "156420    84096\n",
       "Name: PLACE, Length: 8749, dtype: object"
      ]
     },
     "execution_count": 86,
     "metadata": {},
     "output_type": "execute_result"
    }
   ],
   "source": [
    "# To get place Code, I need to divide by STATE because input is different.\n",
    "\n",
    "wave1[wave1['STATE']=='01']['PLACE']"
   ]
  },
  {
   "cell_type": "code",
   "execution_count": 88,
   "metadata": {},
   "outputs": [],
   "source": [
    "# Using Set, we can find unique STATE FIPD CODE\n",
    "\n",
    "state_fips = set(wave1['STATE'])"
   ]
  },
  {
   "cell_type": "markdown",
   "metadata": {},
   "source": [
    "# It is working now for each city"
   ]
  },
  {
   "cell_type": "markdown",
   "metadata": {},
   "source": [
    "#### AGE\n",
    "\n",
    "S0101_C02_002E\tEstimate!!Percent!!Total population!!AGE!!Under 5 years\n",
    "S0101_C02_003E\tEstimate!!Percent!!Total population!!AGE!!5 to 9 years\n",
    "S0101_C02_004E\tEstimate!!Percent!!Total population!!AGE!!10 to 14 years\n",
    "S0101_C02_005E\tEstimate!!Percent!!Total population!!AGE!!15 to 19 years\n",
    "S0101_C02_006E\tEstimate!!Percent!!Total population!!AGE!!20 to 24 years\n",
    "S0101_C02_007E\tEstimate!!Percent!!Total population!!AGE!!25 to 29 years\n",
    "S0101_C02_008E\tEstimate!!Percent!!Total population!!AGE!!30 to 34 years\n",
    "S0101_C02_009E\tEstimate!!Percent!!Total population!!AGE!!35 to 39 years\n",
    "S0101_C02_010E\tEstimate!!Percent!!Total population!!AGE!!40 to 44 years\n",
    "S0101_C02_011E\tEstimate!!Percent!!Total population!!AGE!!45 to 49 years\n",
    "S0101_C02_012E\tEstimate!!Percent!!Total population!!AGE!!50 to 54 years\n",
    "S0101_C02_013E\tEstimate!!Percent!!Total population!!AGE!!55 to 59 years\n",
    "S0101_C02_014E\tEstimate!!Percent!!Total population!!AGE!!60 to 64 years\n",
    "S0101_C02_015E\tEstimate!!Percent!!Total population!!AGE!!65 to 69 years\n",
    "S0101_C02_016E\tEstimate!!Percent!!Total population!!AGE!!70 to 74 years\n",
    "S0101_C02_017E\tEstimate!!Percent!!Total population!!AGE!!75 to 79 years\n",
    "S0101_C02_018E\tEstimate!!Percent!!Total population!!AGE!!80 to 84 years\n",
    "S0101_C02_019E\tEstimate!!Percent!!Total population!!AGE!!85 years and over\n",
    "\n",
    "#### SEX\n",
    "S0101_C04_001E\tEstimate!!Percent Male!!Total population \n",
    "S0101_C06_001E\tEstimate!!Percent Female!!Total population\n",
    "\n",
    "--> these are for percentage of sub category. So, it comes out as -88888888, which is coded as none type. So, I will get the total population of each sex and get percentage.\n",
    "\n"
   ]
  },
  {
   "cell_type": "code",
   "execution_count": 172,
   "metadata": {},
   "outputs": [
    {
     "name": "stdout",
     "output_type": "stream",
     "text": [
      "['New York city, New York', '8443713', '6.5', '5.6', '5.5', '5.4', '6.8', '9.3', '8.5', '7.2', '6.5', '6.4', '6.4', '6.1', '5.6', '4.6', '3.3', '2.5', '1.8', '1.9', '4025097', '4418616', '36', '51000']\n"
     ]
    }
   ],
   "source": [
    "year='2018'\n",
    "dsource='acs'\n",
    "dname='acs5'\n",
    "cols='NAME,S0101_C01_001E,S0101_C02_002E,S0101_C02_003E,S0101_C02_004E,S0101_C02_005E,S0101_C02_006E,\\\n",
    "S0101_C02_007E,S0101_C02_008E,S0101_C02_009E,S0101_C02_010E,S0101_C02_011E,S0101_C02_012E,S0101_C02_013E,\\\n",
    "S0101_C02_014E,S0101_C02_015E,S0101_C02_016E,S0101_C02_017E,S0101_C02_018E,S0101_C02_019E,\\\n",
    "S0101_C03_001E,S0101_C05_001E'\n",
    "state='36'\n",
    "place='51000'\n",
    "\n",
    "base_url4 = f'https://api.census.gov/data/{year}/{dsource}/{dname}/subject'\n",
    "\n",
    "data_url4= f'{base_url4}?get={cols}&for=place:{place}&in=state:{state}\\\n",
    "&key={api_key}'\n",
    "\n",
    "response4 = requests.get(data_url4)\n",
    "print(response4.json()[1])"
   ]
  },
  {
   "cell_type": "code",
   "execution_count": 175,
   "metadata": {},
   "outputs": [
    {
     "data": {
      "text/plain": [
       "370615"
      ]
     },
     "execution_count": 175,
     "metadata": {},
     "output_type": "execute_result"
    }
   ],
   "source": [
    "len(wave1[\"PLACE\"])"
   ]
  },
  {
   "cell_type": "code",
   "execution_count": null,
   "metadata": {},
   "outputs": [
    {
     "name": "stdout",
     "output_type": "stream",
     "text": [
      "35\n",
      "01780\n",
      "02000\n",
      "03400\n",
      "05220\n",
      "05780\n",
      "06270\n",
      "06480\n",
      "06970\n",
      "07880\n",
      "08580\n",
      "11800\n",
      "12150\n",
      "12500\n",
      "12850\n",
      "13970\n",
      "15440\n",
      "15720\n",
      "16280\n",
      "16420\n",
      "17050\n",
      "17680\n",
      "17960\n",
      "19150\n",
      "20270\n",
      "20480\n",
      "20620\n",
      "21180\n",
      "22020\n",
      "22380\n",
      "22720\n",
      "23000\n",
      "24610\n",
      "25170\n",
      "25380\n",
      "25450\n",
      "25800\n",
      "26570\n",
      "26780\n",
      "27340\n",
      "28460\n",
      "30210\n",
      "30490\n",
      "30770\n",
      "31330\n",
      "31820\n",
      "32520\n",
      "33290\n",
      "33710\n",
      "33850\n",
      "35040\n",
      "35320\n",
      "37840\n",
      "39380\n",
      "39940\n",
      "42040\n",
      "42180\n",
      "43370\n",
      "43930\n",
      "44420\n",
      "44490\n",
      "46310\n",
      "47080\n",
      "47570\n",
      "48060\n",
      "48620\n",
      "50160\n",
      "50300\n",
      "50370\n",
      "55620\n",
      "56180\n",
      "59260\n",
      "60870\n",
      "62060\n",
      "62200\n",
      "62620\n",
      "63460\n",
      "64930\n",
      "65070\n",
      "65210\n",
      "65280\n",
      "68150\n",
      "70270\n",
      "70500\n",
      "70670\n",
      "71020\n",
      "73260\n",
      "73540\n",
      "74800\n",
      "75640\n",
      "76200\n",
      "76480\n",
      "76620\n",
      "77250\n",
      "77880\n",
      "79840\n",
      "79910\n",
      "79980\n",
      "82570\n",
      "83200\n",
      "83340\n",
      "85160\n",
      "85300\n",
      "01780\n",
      "02000\n",
      "03400\n",
      "05220\n",
      "05780\n",
      "06270\n",
      "06480\n",
      "06970\n",
      "07880\n",
      "08580\n",
      "11800\n",
      "12150\n",
      "12500\n",
      "12850\n",
      "13970\n",
      "15440\n",
      "15720\n",
      "16280\n",
      "16420\n",
      "17050\n",
      "17680\n",
      "17960\n",
      "19150\n",
      "20270\n",
      "20480\n",
      "20620\n",
      "21180\n",
      "22020\n",
      "22380\n",
      "22720\n",
      "23000\n",
      "24610\n",
      "25170\n",
      "25380\n",
      "25450\n",
      "25800\n",
      "26570\n",
      "26780\n",
      "27340\n",
      "28460\n",
      "30210\n",
      "30490\n",
      "30770\n",
      "31330\n",
      "31820\n",
      "32520\n",
      "33290\n",
      "33710\n",
      "33850\n",
      "35040\n",
      "35320\n",
      "37840\n",
      "39380\n",
      "39940\n",
      "42040\n",
      "42180\n",
      "43370\n",
      "43930\n",
      "44420\n",
      "44490\n",
      "46310\n",
      "47080\n",
      "47570\n",
      "48060\n",
      "48620\n",
      "50160\n",
      "50300\n",
      "50370\n",
      "55620\n",
      "56180\n",
      "59260\n",
      "60870\n",
      "62060\n",
      "62200\n",
      "62620\n",
      "63460\n",
      "64930\n",
      "65070\n",
      "65210\n",
      "65280\n",
      "68150\n",
      "70270\n",
      "70500\n",
      "70670\n",
      "71020\n",
      "73260\n",
      "73540\n",
      "74800\n",
      "75640\n",
      "76200\n",
      "76480\n",
      "76620\n",
      "77250\n",
      "77880\n",
      "79840\n",
      "79910\n",
      "79980\n",
      "82570\n",
      "83200\n",
      "83340\n",
      "85160\n",
      "85300\n",
      "01780\n",
      "02000\n",
      "03400\n",
      "05220\n",
      "05780\n",
      "06270\n",
      "06480\n",
      "06970\n",
      "07880\n",
      "08580\n",
      "11800\n",
      "12150\n",
      "12500\n",
      "12850\n",
      "13970\n",
      "15440\n",
      "15720\n",
      "16280\n",
      "16420\n",
      "17050\n",
      "17680\n",
      "17960\n",
      "19150\n",
      "20270\n",
      "20480\n",
      "20620\n",
      "21180\n",
      "22020\n",
      "22380\n",
      "22720\n",
      "23000\n",
      "24610\n",
      "25170\n",
      "25380\n",
      "25450\n",
      "25800\n",
      "26570\n",
      "26780\n",
      "27340\n",
      "28460\n",
      "30210\n",
      "30490\n",
      "30770\n",
      "31330\n",
      "31820\n",
      "32520\n",
      "33290\n",
      "33710\n",
      "33850\n",
      "35040\n",
      "35320\n",
      "37840\n",
      "39380\n",
      "39940\n",
      "42040\n",
      "42180\n",
      "43370\n",
      "43930\n",
      "44420\n",
      "44490\n",
      "46310\n",
      "47080\n",
      "47570\n",
      "48060\n",
      "48620\n",
      "50160\n",
      "50300\n",
      "50370\n",
      "55620\n",
      "56180\n",
      "59260\n",
      "60870\n",
      "62060\n",
      "62200\n",
      "62620\n",
      "63460\n",
      "64930\n",
      "65070\n",
      "65210\n",
      "65280\n",
      "68150\n",
      "70270\n",
      "70500\n",
      "70670\n",
      "71020\n",
      "73260\n",
      "73540\n",
      "74800\n",
      "75640\n",
      "76200\n"
     ]
    }
   ],
   "source": [
    "master=[]\n",
    "year='2018'\n",
    "dsource='acs'\n",
    "dname='acs5'\n",
    "cols=cols='NAME,S0101_C01_001E,S0101_C02_002E,S0101_C02_003E,S0101_C02_004E,S0101_C02_005E,S0101_C02_006E,\\\n",
    "S0101_C02_007E,S0101_C02_008E,S0101_C02_009E,S0101_C02_010E,S0101_C02_011E,S0101_C02_012E,S0101_C02_013E,\\\n",
    "S0101_C02_014E,S0101_C02_015E,S0101_C02_016E,S0101_C02_017E,S0101_C02_018E,S0101_C02_019E,\\\n",
    "S0101_C03_001E,S0101_C05_001E'\n",
    "state_fips = set(wave1['STATE'])\n",
    "for state in state_fips:\n",
    "    place_fips = wave1[wave1['STATE']==state]['PLACE']\n",
    "    print(state)\n",
    "    for place in place_fips:\n",
    "        print(place)\n",
    "        base_url5 = f'https://api.census.gov/data/{year}/{dsource}/{dname}/subject'\n",
    "        #print(base_url5)\n",
    "        data_url5= f'{base_url5}?get={cols}&for=place:{place}&in=state:{state}&key={api_key}'\n",
    "        #print(data_url5)\n",
    "        response5 = requests.get(data_url5)\n",
    "        data=response5.json()[1]\n",
    "        master.append(data)"
   ]
  },
  {
   "cell_type": "code",
   "execution_count": null,
   "metadata": {},
   "outputs": [],
   "source": []
  }
 ],
 "metadata": {
  "kernelspec": {
   "display_name": "Python 3",
   "language": "python",
   "name": "python3"
  },
  "language_info": {
   "codemirror_mode": {
    "name": "ipython",
    "version": 3
   },
   "file_extension": ".py",
   "mimetype": "text/x-python",
   "name": "python",
   "nbconvert_exporter": "python",
   "pygments_lexer": "ipython3",
   "version": "3.7.6"
  }
 },
 "nbformat": 4,
 "nbformat_minor": 4
}
